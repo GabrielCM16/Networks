{
  "cells": [
    {
      "cell_type": "markdown",
      "metadata": {
        "id": "mGRL2hGFdYdn"
      },
      "source": [
        "# Exercícios"
      ]
    },
    {
      "cell_type": "markdown",
      "metadata": {
        "id": "EBIgDDildYdq"
      },
      "source": [
        "**Exercício 1**"
      ]
    },
    {
      "cell_type": "markdown",
      "metadata": {
        "id": "S-dK9R8JdYdr"
      },
      "source": [
        "Complete as lacunas da tabela abaixo, com as respectivas máscaras de sub-rede equivalentes."
      ]
    },
    {
      "cell_type": "markdown",
      "metadata": {
        "id": "J7XYyA6YdYdr"
      },
      "source": [
        "|/     |*dotted-decimal* |binário                              |\n",
        "|:-----|:----------------|:------------------------------------|\n",
        "|`/16` |`255.255.0.0`    |`11111111.11111111.00000000.00000000`|\n",
        "|`/8`  |`255.0.0.0`      |`11111111.00000000.00000000.00000000`|\n",
        "|`/24` |`255.255.255.0`  |`11111111.11111111.11111111.00000000`|\n",
        "|`/19` |`255.255.224.0`  |`11111111.11111111.11100000.00000000`|\n",
        "|`/27` |`255.255.255.224`|`11111111.11111111.11111111.11100000`|\n",
        "|`/14` |`255.110.0.0`    |`11111111.00000110.00000000.00000000`|\n",
        "|`/30` |`255.255.255.252`|`11111111.11111111.11111111.11111100`|\n",
        "|`/10` |`255.192.0.0`    |`11111111.11000000.00000000.00000000`|\n",
        "|`/25` |`255.255.255.128`|`11111111.11111111.11111111.10000000`|\n",
        "|`/21` |`255.255.248.0`  |`11111111.111111111.11111000.0000000`|"
      ]
    },
    {
      "cell_type": "markdown",
      "metadata": {
        "id": "Z2vRhfvsdYdr"
      },
      "source": [
        "**Exercício 2**"
      ]
    },
    {
      "cell_type": "markdown",
      "metadata": {
        "id": "KZ5CTDd-dYds"
      },
      "source": [
        "Sobre os endereços e respectivas máscaras de rede apresentados abaixo, responda:\n",
        "- Qual é o endereço da rede onde se encontra aquele *host*;\n",
        "- Qual é o endereço de *broadcast* da rede onde está o *host*;"
      ]
    },
    {
      "cell_type": "markdown",
      "metadata": {
        "id": "oQ9SpzBgdYds"
      },
      "source": [
        "|Endereço            |Endereço da rede|Endereço de *broadcast*|\n",
        "|:-------------------|:---------------|:----------------------|\n",
        "|`10.1.1.17/16`      |`10.1.0.0`       |`10.1.255.255`        |\n",
        "|`1.1.2.86/28`       |`1.1.1`       |  `1.1.2.`               |\n",
        "|`143.107.164.250/29`|                |                       |\n",
        "|`200.201.35.26/15`  |                |                       |\n",
        "|`47.23.22.22/20`    |                |                       |\n",
        "|`200.21.21.39/12`   |                |                       |\n",
        "|`42.143.28.78/26`   |                |                       |\n",
        "|`100.200.45.23/24`  |`100.200.45.0`  |`100.200.45.255`       |\n",
        "|`67.88.82.240/26`   |                |                       |\n"
      ]
    },
    {
      "cell_type": "markdown",
      "metadata": {
        "id": "357iRlf8dYds"
      },
      "source": [
        "|Endereço            |Endereço da rede|Endereço de *broadcast*|\n",
        "|:-------------------|:---------------|:----------------------|\n",
        "|`200.201.35.26/15`  |                |                       |\n",
        "|`47.23.22.22/20`    |                |                       |\n",
        "|`200.21.21.39/12`   |                |                       |\n",
        "|`42.143.28.78/26`   |                |                       |\n",
        "|`100.200.45.23/24`  |`100.200.45.0`  |  `100.200.45.255`     |\n",
        "|`1.1.2.86/28`       |                |                       |\n",
        "|`143.107.164.250/29`|                |                       |\n",
        "|`67.88.82.240/26`   |                |                       |"
      ]
    },
    {
      "cell_type": "markdown",
      "metadata": {
        "id": "81GVvFxEdYdt"
      },
      "source": [
        "**Exercício 3**"
      ]
    },
    {
      "cell_type": "code",
      "source": [
        "bin(4)"
      ],
      "metadata": {
        "id": "IpO_f-PMW0SL",
        "outputId": "b3e421dc-d9a2-49fe-9815-2e84db033ece",
        "colab": {
          "base_uri": "https://localhost:8080/",
          "height": 35
        }
      },
      "execution_count": null,
      "outputs": [
        {
          "output_type": "execute_result",
          "data": {
            "text/plain": [
              "'0b100'"
            ],
            "application/vnd.google.colaboratory.intrinsic+json": {
              "type": "string"
            }
          },
          "metadata": {},
          "execution_count": 1
        }
      ]
    },
    {
      "cell_type": "markdown",
      "metadata": {
        "id": "ecPFaalGdYdt"
      },
      "source": [
        "Complete a tabela a seguir.\n",
        "\n",
        "|Máscara de sub-rede |Máximo de *hosts*|Máximo de sub-redes|\n",
        "|:------------------:|:---------------:|:-----------------:|\n",
        "|`/31`               |        `0`       |                   |\n",
        "|`/30`               |          `2`    |                   |\n",
        "|`/29`               |          `6`       |                   |\n",
        "|`/28`               |          `14`       |                   |\n",
        "|`/27`               |          `30`       |                   |\n",
        "|`/26`               |          `62`       |                   |\n",
        "|`/25`               |         `126`        |                   |\n",
        "|`/24`               |         `254`        |                   |\n",
        "|`/23`               |          `510`       |                   |\n",
        "|`/22`               |          `1022`       |                   |\n",
        "|`/21`               |          `2046`       |                   |\n",
        "|`/20`               | `2*(32-20) - 2`       |                   |\n",
        "|`/19`               |  `2*(32-19) - 2`       |                   |\n",
        "|`/18`               |  `2*(32-18) - 2`       |                   |\n",
        "|`/17`               | `2*(32-17) - 2`|                   |\n",
        "|`/16`               | `2*(32-16) - 2` |                   |\n",
        "|`/15`               | `2*(32-15) - 2`  |                   |\n",
        "|`/14`               |`2*(32-14) - 2`      |                   |\n",
        "|`/13`               | `2*(32-13) - 2`    |                   |\n",
        "|`/12`               | `2*(32-12) - 2`        |                   |\n",
        "|`/11`               |`2*(32-11) - 2`               |                   |\n",
        "|`/10`               |`2*(32-10) - 2`                |                   |\n",
        "|`/9`                |`2*(32-9) - 2`               |                   |\n",
        "|`/8`                |`2*(32-8) - 2`              |                   |\n"
      ]
    },
    {
      "cell_type": "markdown",
      "metadata": {
        "id": "AOQ5x18FdYdu"
      },
      "source": [
        "**Exercício 4**"
      ]
    },
    {
      "cell_type": "markdown",
      "metadata": {
        "id": "tuceMxTadYdu"
      },
      "source": [
        ":Para máscara de rede, calcule a quantidade máxima de endereços por sub-rede."
      ]
    },
    {
      "cell_type": "markdown",
      "metadata": {
        "id": "bzKXuLupdYdu"
      },
      "source": [
        "|Máscara de sub-rede |Máximo de endereços|\n",
        "|:------------------:|:-----------------:|\n",
        "|`/31`               |        `2`        |\n",
        "|`/30`               |        `4`        |\n",
        "|`/29`               |        `8`       |\n",
        "|`/28`               |        `16`       |\n",
        "|`/27`               |         `32`       |\n",
        "|`/26`               |        `64`       |\n",
        "|`/25`               |      `128`         |\n",
        "|`/24`               |        `256`        |\n",
        "|`/23`               |          `512`      |\n",
        "|`/22`               |         `1024`       |\n",
        "|`/21`               |         `2*(32-21)`      |\n",
        "|`/20`               |       `2*(32-20)`           |\n",
        "|`/19`               |        `2*(32-19)`          |\n",
        "|`/18`               |       `2*(32-18)`           |\n",
        "|`/17`               |        `2*(32-17)`          |\n",
        "|`/16`               |        `2*(32-16)`          |\n",
        "|`/15`               |       `2*(32-15)`           |\n",
        "|`/14`               |         `2*(32-14)`         |\n",
        "|`/13`               |      `2*(32-13)`            |\n",
        "|`/12`               |     `2*(32-12)`             |\n",
        "|`/11`               |     `2*(32-11)`             |\n",
        "|`/10`               |      `2*(32-10)`            |\n",
        "|`/9`                |       `2*(32-9)`           |\n",
        "|`/8`                |      `2*(32-8)`            |"
      ]
    },
    {
      "cell_type": "markdown",
      "metadata": {
        "id": "XUiXq4jXdYdv"
      },
      "source": [
        "**Exercício 5**"
      ]
    },
    {
      "cell_type": "markdown",
      "metadata": {
        "id": "21ifW0_CdYdv"
      },
      "source": [
        "Sobre os IP’s e máscaras de rede indicados abaixo, informe se o IP mostrado é válido para um determinado *host*. Caso não seja válido, informe o motivo."
      ]
    },
    {
      "cell_type": "markdown",
      "metadata": {
        "id": "SAexe9jgdYdv"
      },
      "source": [
        "|Máscara de sub-rede |IP              |Válido (V) / Inválido (I)|Motivo|\n",
        "|:-------------------|:---------------|:------------------------|:-----|\n",
        "|`255.255.0.0`       |`1.1.1.2.10`    | `Inválido`          |`IP com 5 octetos`|\n",
        "|`255.255.0.0`       |`10.1.1.1`      | `Valido`           |      |\n",
        "|`255.255.0.0`       |`10.255.2.10`   |                       |      |\n",
        "|`255.255.0.0`       |`10.1.2.255`    |                       |      |\n",
        "|`255.255.255.0`     |`1.1.1.0`       |                         |      |\n",
        "|`255.252.255.0`     |`10.1.1.15`     |                         |      |\n",
        "|`255.255.255.0`     |`10.1.0.1`      |                         |      |\n",
        "|`255.255.255.0`     |`10.256.2.10`   |                         |      |\n",
        "|`255.255.192.0`     |`15.20.50.255`  |                         |      |\n",
        "|`255.255.192.0`     |`15.20.200.10`  |                         |      |\n",
        "|`255.255.255.192`   |`40.1.50.63`    |                         |      |\n",
        "|`255.255.255.248`   |`200.201.81.39` |                         |      |\n",
        "|`255.255.255.248`   |`200.201.81.24` |                         |      |"
      ]
    },
    {
      "cell_type": "markdown",
      "metadata": {
        "id": "hZIGSN7idYdv"
      },
      "source": [
        "|Máscara de sub-rede |IP              |Válido (V) / Inválido (I)|Motivo|\n",
        "|:-------------------|:---------------|:------------------------|:-----|\n",
        "|`255.255.0.0`       |`10.1.1.1`      |                         |      |\n",
        "|`255.255.255.0`     |`1.1.1.0`       |                         |      |\n",
        "|`255.255.255.0`     |`10.1.0.1`      |                         |      |\n",
        "|`255.255.255.192`   |`40.1.50.63`    |                         |      |\n",
        "|`255.255.255.248`   |`200.201.81.39` |                         |      |\n",
        "|`255.255.0.0`       |`1.1.1.2.10`    |                         |      |\n",
        "|`255.252.255.0`     |`10.1.1.15`     |                         |      |\n",
        "|`255.255.0.0`       |`10.255.2.10`   |                         |      |\n",
        "|`255.255.192.0`     |`15.20.50.255`  |                         |      |\n",
        "|`255.255.0.0`       |`10.1.2.255`    |                         |      |\n",
        "|`255.255.255.0`     |`10.256.2.10`   |                         |      |\n",
        "|`255.255.192.0`     |`15.20.200.10`  |                         |      |\n",
        "|`255.255.255.248`   |`200.201.81.24` |                         |      |"
      ]
    },
    {
      "cell_type": "markdown",
      "metadata": {
        "id": "nyHd7_3RdYdw"
      },
      "source": [
        "**Exercício 6**"
      ]
    },
    {
      "cell_type": "markdown",
      "metadata": {
        "id": "4RlnRWIrdYdw"
      },
      "source": [
        "O padrão de endereçamento interno IP de determinada empresa indica que o *default gateway* de uma sub-rede deve sempre ocupar o último endereço disponível. Considerando-se que uma filial recebeu da matriz a sub-rede `192.168.15.128/255.255.255.240` (IP/Máscara), que endereço deve ser utilizado para o *default gateway*?"
      ]
    },
    {
      "cell_type": "markdown",
      "metadata": {
        "id": "4GwiR5gpdYdw"
      },
      "source": [
        "1. [ ] 192.168.15.142\n",
        "2. [ ] 192.168.15.143\n",
        "3. [ ] 192.168.15.129\n",
        "4. [ ] 192.168.15.254\n",
        "5. [ ] 192.168.15.255"
      ]
    },
    {
      "cell_type": "markdown",
      "metadata": {
        "id": "KlaLuNOndYdw"
      },
      "source": [
        "**Observação**:  \n",
        "Como marcar:\n",
        "- [ ] *unchecked*\n",
        "- [x] *checked*"
      ]
    },
    {
      "cell_type": "markdown",
      "metadata": {
        "id": "pr8tC1XhdYdw"
      },
      "source": [
        "**Exercício 7**"
      ]
    },
    {
      "cell_type": "markdown",
      "metadata": {
        "id": "bJR4TkhtdYdw"
      },
      "source": [
        "Sobre as máscaras de rede, responda:"
      ]
    },
    {
      "cell_type": "markdown",
      "metadata": {
        "id": "xcG8aF3FdYdw"
      },
      "source": [
        "(A) Qual é o último endereço de *host* válido na sub-rede `172.16.222.16/28`?"
      ]
    },
    {
      "cell_type": "markdown",
      "metadata": {
        "id": "JYuODncvdYdw"
      },
      "source": [
        "Resposta: `__________`"
      ]
    },
    {
      "cell_type": "markdown",
      "metadata": {
        "id": "heyLW70gdYdw"
      },
      "source": [
        "(B). Qual é o último endereço de *host* válido na sub-rede `172.23.36.0`, com máscara `255.255.254.0`?"
      ]
    },
    {
      "cell_type": "markdown",
      "metadata": {
        "id": "YQlzZkikdYdw"
      },
      "source": [
        "Resposta: `__________`"
      ]
    },
    {
      "cell_type": "markdown",
      "metadata": {
        "id": "QyxrkUD0dYdw"
      },
      "source": [
        "(C). Qual é o primeiro endereço de *host* válido na sub-rede em que a máquina com o ip\n",
        "`10.232.151.102` e máscara `255.255.240.0` pertence?"
      ]
    },
    {
      "cell_type": "markdown",
      "metadata": {
        "id": "4w9uf4LUdYdx"
      },
      "source": [
        "Resposta: `__________`"
      ]
    },
    {
      "cell_type": "markdown",
      "metadata": {
        "id": "9uGRs1SvdYdx"
      },
      "source": [
        "(D). Qual é a faixa de endereços IP válida para *hosts* onde a máquina `172.29.254.163` e máscara `255.255.255.128` pertence?"
      ]
    },
    {
      "cell_type": "markdown",
      "metadata": {
        "id": "MpKe2TSwdYdx"
      },
      "source": [
        "Resposta: a faixa de IP’s vai de `_______________________` a `______________________` ."
      ]
    },
    {
      "cell_type": "markdown",
      "metadata": {
        "id": "0RhWwxqxdYdx"
      },
      "source": [
        "(E). Qual é o endereço de *broadcast* da rede `10.102.240.0/20` ?"
      ]
    },
    {
      "cell_type": "markdown",
      "metadata": {
        "id": "NwatrlHwdYdx"
      },
      "source": [
        "Resposta: `__________`"
      ]
    },
    {
      "cell_type": "code",
      "execution_count": null,
      "metadata": {
        "id": "P2cWbmDidYdx",
        "colab": {
          "base_uri": "https://localhost:8080/"
        },
        "outputId": "0c55d73c-e179-4679-f1ce-2d31186bf5b1"
      },
      "outputs": [
        {
          "output_type": "stream",
          "name": "stdout",
          "text": [
            "0b10000000\n",
            "0b11110000\n",
            "128\n",
            "==================\n",
            "0b110\n"
          ]
        }
      ],
      "source": [
        "#Conversão binário-decimal e decimal-binário em Python\n",
        "print(bin(128))\n",
        "print(bin(240))\n",
        "print(0b10000000)\n",
        "print('==================')\n",
        "print(bin(6))"
      ]
    },
    {
      "cell_type": "code",
      "source": [],
      "metadata": {
        "id": "evP_lUoVg6n4"
      },
      "execution_count": null,
      "outputs": []
    }
  ],
  "metadata": {
    "kernelspec": {
      "display_name": "Python 3 (ipykernel)",
      "language": "python",
      "name": "python3"
    },
    "language_info": {
      "codemirror_mode": {
        "name": "ipython",
        "version": 3
      },
      "file_extension": ".py",
      "mimetype": "text/x-python",
      "name": "python",
      "nbconvert_exporter": "python",
      "pygments_lexer": "ipython3",
      "version": "3.9.15"
    },
    "colab": {
      "provenance": []
    }
  },
  "nbformat": 4,
  "nbformat_minor": 0
}